{
 "cells": [
  {
   "cell_type": "code",
   "execution_count": 5,
   "id": "4a147d90-41ba-4eea-862b-cf4d557d310b",
   "metadata": {},
   "outputs": [
    {
     "name": "stdin",
     "output_type": "stream",
     "text": [
      "Enter text:  ABCABDABCDABC\n",
      "Enter pattern:  ABCD\n"
     ]
    },
    {
     "name": "stdout",
     "output_type": "stream",
     "text": [
      "Naive Search:\n",
      "Pattern found at index 6\n"
     ]
    }
   ],
   "source": [
    "#NAIVE SEARCH ALGORITHM\n",
    "def naive_search(pat, txt):\n",
    "    m = len(pat)\n",
    "    n = len(txt)\n",
    "    for i in range(n - m + 1):\n",
    "        for j in range(m):\n",
    "            if txt[i + j] != pat[j]:\n",
    "                break\n",
    "        else:\n",
    "            print(f\"Pattern found at index {i}\")\n",
    "\n",
    "if __name__ == \"__main__\":\n",
    "    txt = input(\"Enter text: \")\n",
    "    pat = input(\"Enter pattern: \")\n",
    "    print(\"Naive Search:\")\n",
    "    naive_search(pat, txt)"
   ]
  },
  {
   "cell_type": "code",
   "execution_count": 6,
   "id": "56bc6271-b042-4005-b008-10945112dd30",
   "metadata": {},
   "outputs": [
    {
     "name": "stdin",
     "output_type": "stream",
     "text": [
      "Enter text:  ABDABDCDBABCD\n",
      "Enter pattern:  CD\n"
     ]
    },
    {
     "name": "stdout",
     "output_type": "stream",
     "text": [
      "KMP Search:\n",
      "Pattern found at index 6\n",
      "Pattern found at index 11\n"
     ]
    }
   ],
   "source": [
    "#Knuth–Morris–Pratt (KMP) Algorithm\n",
    "\n",
    "def compute_lps(pat):\n",
    "    lps = [0] * len(pat)\n",
    "    length = 0\n",
    "    i = 1\n",
    "    while i < len(pat):\n",
    "        if pat[i] == pat[length]:\n",
    "            length += 1\n",
    "            lps[i] = length\n",
    "            i += 1\n",
    "        else:\n",
    "            if length != 0:\n",
    "                length = lps[length - 1]\n",
    "            else:\n",
    "                lps[i] = 0\n",
    "                i += 1\n",
    "    return lps\n",
    "\n",
    "def kmp_search(pat, txt):\n",
    "    m, n = len(pat), len(txt)\n",
    "    lps = compute_lps(pat)\n",
    "    i = j = 0\n",
    "    while i < n:\n",
    "        if pat[j] == txt[i]:\n",
    "            i += 1\n",
    "            j += 1\n",
    "        if j == m:\n",
    "            print(f\"Pattern found at index {i - j}\")\n",
    "            j = lps[j - 1]\n",
    "        elif i < n and pat[j] != txt[i]:\n",
    "            if j != 0:\n",
    "                j = lps[j - 1]\n",
    "            else:\n",
    "                i += 1\n",
    "\n",
    "if __name__ == \"__main_\":\n",
    "    txt = input(\"Enter text: \")\n",
    "    pat = input(\"Enter pattern: \")\n",
    "    print(\"KMP Search:\")\n",
    "    kmp_search(pat, txt)\n"
   ]
  },
  {
   "cell_type": "code",
   "execution_count": 7,
   "id": "e19cc94f-cfa0-424f-b14c-b2390bf343f4",
   "metadata": {},
   "outputs": [
    {
     "name": "stdin",
     "output_type": "stream",
     "text": [
      "Enter text:  RURURUTYTTHI\n",
      "Enter pattern:  UTY\n"
     ]
    },
    {
     "name": "stdout",
     "output_type": "stream",
     "text": [
      "Rabin-Karp Search:\n",
      "Pattern found at index 5\n"
     ]
    }
   ],
   "source": [
    "#RABIN KARP SEARCH\n",
    "\n",
    "def rabin_karp_search(pat, txt, d=256, q=101):\n",
    "    m = len(pat)\n",
    "    n = len(txt)\n",
    "    p = t = 0\n",
    "    h = 1\n",
    "    for i in range(m-1):\n",
    "        h = (h * d) % q\n",
    "    for i in range(m):\n",
    "        p = (d * p + ord(pat[i])) % q\n",
    "        t = (d * t + ord(txt[i])) % q\n",
    "    for i in range(n - m + 1):\n",
    "        if p == t:\n",
    "            if txt[i:i+m] == pat:\n",
    "                print(f\"Pattern found at index {i}\")\n",
    "        if i < n - m:\n",
    "            t = (d * (t - ord(txt[i]) * h) + ord(txt[i + m])) % q\n",
    "            if t < 0:\n",
    "                t += q\n",
    "\n",
    "if __name__ == \"__main__\":\n",
    "    txt = input(\"Enter text: \")\n",
    "    pat = input(\"Enter pattern: \")\n",
    "    print(\"Rabin-Karp Search:\")\n",
    "    rabin_karp_search(pat, txt)\n"
   ]
  },
  {
   "cell_type": "code",
   "execution_count": null,
   "id": "a7926040-3554-44d4-ad3a-9b4cd99c739f",
   "metadata": {},
   "outputs": [],
   "source": []
  }
 ],
 "metadata": {
  "kernelspec": {
   "display_name": "Python [conda env:base] *",
   "language": "python",
   "name": "conda-base-py"
  },
  "language_info": {
   "codemirror_mode": {
    "name": "ipython",
    "version": 3
   },
   "file_extension": ".py",
   "mimetype": "text/x-python",
   "name": "python",
   "nbconvert_exporter": "python",
   "pygments_lexer": "ipython3",
   "version": "3.13.5"
  }
 },
 "nbformat": 4,
 "nbformat_minor": 5
}
